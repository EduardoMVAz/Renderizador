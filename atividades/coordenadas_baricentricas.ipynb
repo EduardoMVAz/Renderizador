{
 "cells": [
  {
   "cell_type": "markdown",
   "metadata": {},
   "source": [
    "# 09 - Interpolação em Triângulos\n",
    "\n",
    "Para essa atividade vamos usar o Numpy e Matplotlib. Assim vamos carregar as bibliotecas."
   ]
  },
  {
   "cell_type": "code",
   "execution_count": 1,
   "metadata": {},
   "outputs": [],
   "source": [
    "import numpy as np\n",
    "import matplotlib\n",
    "import matplotlib.pyplot as plt\n",
    "import matplotlib.tri as mtri\n"
   ]
  },
  {
   "cell_type": "markdown",
   "metadata": {},
   "source": [
    "Vamos definir algumas funções auxiliares que vão nos ajudar a exibir os gráficos."
   ]
  },
  {
   "cell_type": "code",
   "execution_count": 2,
   "metadata": {},
   "outputs": [],
   "source": [
    "# Faz o setup para desenhar gráficos\n",
    "def graph():\n",
    "    fig = plt.figure()\n",
    "    ax = plt.axes()\n",
    "    plt.grid()\n",
    "    ax.set_xlim(-4, 4)\n",
    "    ax.set_ylim(-4, 4)\n",
    "    ax.axhline(0, color='black') # deixa o X do eixo 0 em destaque\n",
    "    ax.axvline(0, color='black') # deixa o Y do eixo 0 em destaque\n",
    "    ax.set_aspect('equal') # Não suportado em todas as plataformas\n",
    "    ax.set(xlabel='x', ylabel='y')\n",
    "    fig.tight_layout()\n",
    "    return ax\n",
    "\n",
    "# Fonte: https://stackoverflow.com/questions/41596386/tripcolor-using-rgb-values-for-each-vertex\n",
    "def colors_to_cmap(colors):\n",
    "    colors = np.asarray(colors)\n",
    "    if colors.shape[1] == 3:\n",
    "        colors = np.hstack((colors, np.ones((len(colors),1))))\n",
    "    steps = (0.5 + np.asarray(range(len(colors)-1), dtype=float))/(len(colors) - 1)\n",
    "    return matplotlib.colors.LinearSegmentedColormap(\n",
    "        'auto_cmap',\n",
    "        {clrname: ([(0, col[0], col[0])] + \n",
    "                   [(step, c0, c1) for (step,c0,c1) in zip(steps, col[:-1], col[1:])] + \n",
    "                   [(1, col[-1], col[-1])])\n",
    "         for (clridx,clrname) in enumerate(['red', 'green', 'blue', 'alpha'])\n",
    "         for col in [colors[:,clridx]]},\n",
    "        N=len(colors))\n",
    "\n",
    "def draw_triangle(poly, colors):\n",
    "    triangles = np.asarray([[0, 1, 2]])\n",
    "    triang = mtri.Triangulation(poly[0], poly[1], triangles)\n",
    "    cmap = colors_to_cmap(colors)\n",
    "    zs = np.asarray(range(3), dtype=float)/2\n",
    "    plt.tripcolor(triang, zs, cmap=cmap, shading='gouraud' )\n",
    "    plt.grid()\n",
    "    plt.scatter(poly[0], poly[1], s=20, color=colors)"
   ]
  },
  {
   "attachments": {},
   "cell_type": "markdown",
   "metadata": {},
   "source": [
    "O código abaixo desenha um triangulo com cores por vértice. Identifique as cores dos 3 pontos de teste (variável `prob`) usando coordenadas baricêntricas. "
   ]
  },
  {
   "cell_type": "code",
   "execution_count": 4,
   "metadata": {},
   "outputs": [
    {
     "data": {
      "image/png": "[encoded data removed]",
      "text/plain": [
       "<Figure size 640x480 with 1 Axes>"
      ]
     },
     "metadata": {},
     "output_type": "display_data"
    }
   ],
   "source": [
    "ax = graph() # configura o espaço para desenhar um gráfico 2D\n",
    "\n",
    "# Vértices do triângulo\n",
    "poly = np.array([[ -2.0,  2.0, 0.0],\n",
    "                 [ -2.0, -2.0, 1.0]])\n",
    "\n",
    "# Cores definidas para cada vértice do triângulo\n",
    "colors = np.asarray( [[1.0,0.0,0.0],\n",
    "                      [0.0,1.0,0.0], \n",
    "                      [0.0,0.0,1.0]] )\n",
    "\n",
    "# Desenho do triângulo\n",
    "draw_triangle(poly, colors) # Desenha triângulo colorido\n",
    "\n",
    "# Pontos de teste\n",
    "prob = np.array([[ -1.5,  1.5, 0.0],\n",
    "                 [ -1.5, -1.5, 0.5]])\n",
    "plt.scatter(prob[0], prob[1], s=20, marker=\"*\", color=\"black\")\n",
    "\n",
    "plt.show()"
   ]
  },
  {
   "cell_type": "code",
   "execution_count": 12,
   "metadata": {},
   "outputs": [],
   "source": [
    "def calculate_baricentric_coordinates(A, B, C, point):\n",
    "    alpha = ((-(point[0] - B[0]) * (C[1] - B[1]) + (point[1] - B[1]) * (C[0] - B[0])) /\n",
    "            (-(A[0] - B[0]) * (C[1] - B[1]) + (A[1] - B[1]) * (C[0] - B[0])))\n",
    "    \n",
    "    beta = ((-(point[0] - C[0]) * (A[1] - C[1]) + (point[1] - C[1]) * (A[0] - C[0])) /\n",
    "            (-(B[0] - C[0]) * (A[1] - C[1]) + (B[1] - C[1]) * (A[0] - C[0])))\n",
    "    \n",
    "    gamma = 1 - alpha - beta \n",
    "\n",
    "    return round(alpha, 3), round(beta, 3), round(gamma, 3)"
   ]
  },
  {
   "cell_type": "code",
   "execution_count": 14,
   "metadata": {},
   "outputs": [
    {
     "name": "stdout",
     "output_type": "stream",
     "text": [
      "0.792 0.042 0.167\n",
      "[0.792 0.042 0.167]\n",
      "[202, 11, 43]\n",
      "0.042 0.792 0.167\n",
      "[0.042 0.792 0.167]\n",
      "[11, 202, 43]\n",
      "0.083 0.083 0.833\n",
      "[0.083 0.083 0.833]\n",
      "[21, 21, 212]\n"
     ]
    }
   ],
   "source": [
    "ponto_1 = (prob[0][0], prob[1][0])\n",
    "ponto_2 = (prob[0][1], prob[1][1])\n",
    "ponto_3 = (prob[0][2], prob[1][2])\n",
    "\n",
    "points = [ponto_1, ponto_2, ponto_3]\n",
    "\n",
    "for point in points:\n",
    "    alpha, beta, gamma = calculate_baricentric_coordinates((poly[0][0], poly[1][0]), (poly[0][1], poly[1][1]), (poly[0][2], poly[1][2]), point)\n",
    "    print(alpha, beta, gamma)\n",
    "    color = alpha * colors[0][:] + beta * colors[1][:] + gamma * colors[2][:]\n",
    "    print(color)\n",
    "    color = [round(255*i) for i in color]\n",
    "    print(color)"
   ]
  }
 ],
 "metadata": {
  "kernelspec": {
   "display_name": "env (3.12.3)",
   "language": "python",
   "name": "python3"
  },
  "language_info": {
   "codemirror_mode": {
    "name": "ipython",
    "version": 3
   },
   "file_extension": ".py",
   "mimetype": "text/x-python",
   "name": "python",
   "nbconvert_exporter": "python",
   "pygments_lexer": "ipython3",
   "version": "3.12.3"
  }
 },
 "nbformat": 4,
 "nbformat_minor": 4
}
