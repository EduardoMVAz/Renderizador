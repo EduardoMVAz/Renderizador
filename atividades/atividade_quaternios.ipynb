{
 "cells": [
  {
   "cell_type": "markdown",
   "metadata": {},
   "source": [
    "# 02 - Quatérnios\n",
    "\n",
    "Quatérnios possuem vários usos, porém aqui vamos nos concentrar nos recursos de realizar rotações no espaço 3D. A construção matemática do quatérnio é em geral expressa da seguinte forma:\n",
    "\n",
    "$$\n",
    "q = q_r + q_i \\mathbf{i} + q_j \\mathbf{j} + q_k \\mathbf{k}\n",
    "$$\n",
    "\n",
    "Podemos calcular o comprimento de um quatérnio com a seguinte fórmula:\n",
    "\n",
    "$$\n",
    "|q| = \\sqrt{q\\bar{q}} = \\sqrt{q_i^2 + q_j^2 + q_k^2 + q_r^2}\n",
    "$$\n",
    "\n",
    "A multiplicação de quatérnios é um recurso que permite fazer as operações de rotação. Uma das formas de fazer essa opção é por um processo distributivo:\n",
    "\n",
    "$$\n",
    "pq = (p_r + p_i i + p_j j + p_k k)(q_r + q_i i + q_j j + q_k k) \\\\\n",
    "= (p_r q_r - p_i q_i - p_j q_j - p_k q_k) + (...)i + (...)j + (...)k\n",
    "$$\n",
    "\n",
    "Outra forma é usando os recursos de multiplicação escalar e vetorial:\n",
    "\n",
    "$$\n",
    "pq = p_r q_r - \\mathbf{p} \\cdot \\mathbf{q} + p_r \\mathbf{q} - q_r \\mathbf{p} + \\mathbf{p} \\times \\mathbf{q}\n",
    "$$\n",
    "\n",
    "Não se esqueça que a ordem da multiplicação é importante, e o cuidado que você deve ter é na multiplicação dos imaginários. Assim siga sempre a seguinte regra:\n",
    "\n",
    "$$\n",
    "\\mathbf{i}^2 = \\mathbf{j}^2 = \\mathbf{k}^2 = -1, \\mathbf{ijk} = -1 \\\\\n",
    "\\mathbf{ij} = \\mathbf{k}, \\quad \\mathbf{jk} = \\mathbf{i}, \\quad \\mathbf{ki} = \\mathbf{j} \\\\\n",
    "\\mathbf{ji} = -\\mathbf{k}, \\quad \\mathbf{kj} = -\\mathbf{i}, \\quad \\mathbf{ik} = -\\mathbf{j}\n",
    "$$\n",
    "\n",
    "Rotações podem ser calculadas no espaço 3D pelas matrizes de rotação, que usam coordenadas de Euler diretamente. Como visto em aula, essas matrizes têm suas limitações:\n",
    "\n",
    "$$\n",
    "\\mathbf{R}_{x,\\theta} = \\begin{bmatrix}\n",
    "1 & 0 & 0 \\\\\n",
    "0 & \\cos\\theta & -\\sin\\theta \\\\\n",
    "0 & \\sin\\theta & \\cos\\theta\n",
    "\\end{bmatrix}\n",
    "\\quad\n",
    "\\mathbf{R}_{y,\\theta} = \\begin{bmatrix}\n",
    "\\cos\\theta & 0 & \\sin\\theta \\\\\n",
    "0 & 1 & 0 \\\\\n",
    "-\\sin\\theta & 0 & \\cos\\theta\n",
    "\\end{bmatrix}\n",
    "\\quad\n",
    "\\mathbf{R}_{z,\\theta} = \\begin{bmatrix}\n",
    "\\cos\\theta & -\\sin\\theta & 0 \\\\\n",
    "\\sin\\theta & \\cos\\theta & 0 \\\\\n",
    "0 & 0 & 1\n",
    "\\end{bmatrix}\n",
    "$$\n",
    "\n",
    "Uma alternativa é através de quatérnios. Para isso se pode criar o quatérnio de rotação com a seguinte fórmula:\n",
    "\n",
    "$$\n",
    "q = \\cos \\left(\\frac{\\theta}{2}\\right) + \\sin \\left(\\frac{\\theta}{2}\\right) u_x \\mathbf{i} + \\sin \\left(\\frac{\\theta}{2}\\right) u_y \\mathbf{j} + \\sin \\left(\\frac{\\theta}{2}\\right) u_z \\mathbf{k}\n",
    "$$\n",
    "\n",
    "Existem duas formas de aplicar a rotação por quatérnios, uma é multiplicando o vetor que se deseja rotacionar pelo quatérnio e depois pelo seu conjugado:\n",
    "\n",
    "$$\n",
    "rot(\\mathbf{v}) = q \\cdot \\mathbf{v} \\cdot q^{-1}\n",
    "$$\n",
    "\n",
    "A outra forma é colocar os valores do quatérnio em uma matriz e então multiplicar o vetor. A matriz de rotação usando quatérnios usa a seguinte construção:\n",
    "\n",
    "$$\n",
    "R = \\begin{bmatrix}\n",
    "1 - 2(q_y^2 + q_z^2) & 2(q_x q_y - q_z q_r) & 2(q_x q_z + q_y q_r) & 0 \\\\\n",
    "2(q_x q_y + q_z q_r) & 1 - 2(q_x^2 + q_z^2) & 2(q_y q_z - q_x q_r) & 0 \\\\\n",
    "2(q_x q_z - q_y q_r) & 2(q_y q_z + q_x q_r) & 1 - 2(q_x^2 + q_y^2) & 0 \\\\\n",
    "0 & 0 & 0 & 1\n",
    "\\end{bmatrix}\n",
    "$$\n",
    "\n",
    "Vamos verificar se os quatérnios funcionam mesmo."
   ]
  },
  {
   "cell_type": "markdown",
   "metadata": {},
   "source": [
    "a) Assuma um ponto (0, 1, 0), faça uma rotação por Z de 45° usando a matriz de rotação por coordenadas de Euler e depois por quatérnios, verifique se os resultados coincidem."
   ]
  },
  {
   "cell_type": "code",
   "execution_count": 20,
   "metadata": {},
   "outputs": [
    {
     "data": {
      "text/plain": [
       "array([[-0.14644661],\n",
       "       [ 0.5       ],\n",
       "       [ 0.85355339]])"
      ]
     },
     "execution_count": 20,
     "metadata": {},
     "output_type": "execute_result"
    }
   ],
   "source": [
    "import math\n",
    "import numpy as np\n",
    "\n",
    "angle = 45\n",
    "radians = math.radians(angle)\n",
    "\n",
    "point = np.array([[0],[1],[0]])\n",
    "\n",
    "Z_rotation = np.array([\n",
    "    [math.cos(radians), -math.sin(radians), 0],\n",
    "    [math.sin(radians), math.cos(radians), 0],\n",
    "    [0, 0, 1]\n",
    "])\n",
    "\n",
    "X_rotation = np.array([\n",
    "    [1, 0, 0],\n",
    "    [0, math.cos(radians), -math.sin(radians)],\n",
    "    [0, math.sin(radians), math.cos(radians)]\n",
    "])\n",
    "\n",
    "Y_rotation = np.array([\n",
    "    [math.cos(radians), 0, math.sin(radians)],\n",
    "    [0, 1, 0],\n",
    "    [-math.sin(radians), 0, math.cos(radians)]\n",
    "])\n",
    "\n",
    "Y_rotation @ X_rotation @ Z_rotation @ point"
   ]
  },
  {
   "cell_type": "code",
   "execution_count": 17,
   "metadata": {},
   "outputs": [
    {
     "data": {
      "text/plain": [
       "array([[-0.70710678],\n",
       "       [ 0.70710678],\n",
       "       [ 0.        ],\n",
       "       [ 1.        ]])"
      ]
     },
     "execution_count": 17,
     "metadata": {},
     "output_type": "execute_result"
    }
   ],
   "source": [
    "angle = 45\n",
    "radians = math.radians(angle)\n",
    "\n",
    "point = np.array([[0],[1],[0],[1]])\n",
    "\n",
    "def quaternion_rotation_matrix(x: float, y: float, z: float, t: float):\n",
    "            \"\"\"\n",
    "            A função quaternion_rotation_matrix usa \n",
    "            eixo da rotação (x, y, z), em conjunto \n",
    "            com o valor em radianos para theta\n",
    "            para criar a matriz de rotação.\n",
    "            \"\"\"\n",
    "\n",
    "            def generate_quaternion(x: float, y: float, z: float, theta: float):\n",
    "                \"\"\"\n",
    "                A função generate_quaternion usa o \n",
    "                eixo da rotação (x, y, z) em conjunto\n",
    "                com o valor em radianos para theta\n",
    "                para criar o quatérnio que irá compor a \n",
    "                matriz de rotação.\n",
    "\n",
    "                um quatérnio [qi, qj, qk, qr] é, na\n",
    "                prática, o vetor [\n",
    "                    ux*sin(theta/2),\n",
    "                    uy*sin(theta/2),\n",
    "                    uz*sin(theta/2),\n",
    "                    cos(theta/2)\n",
    "                ]\n",
    "\n",
    "                sendo ux, uy e uz os versores do eixo\n",
    "                (vetor [x, y, z] divido pela norma). \n",
    "                \"\"\"\n",
    "                vector = np.array([x, y, z])\n",
    "                norm = np.linalg.norm(vector)\n",
    "\n",
    "                # se a norma do vetor é zero, não\n",
    "                # há rotação, e o se usa o quatérnio 1,\n",
    "                # equivalente a identidade.\n",
    "                if norm == 0:\n",
    "                    return (0, 0, 0, 1)\n",
    "                \n",
    "                normalized_vector = vector / norm\n",
    "                ux, uy, uz = normalized_vector\n",
    "\n",
    "                return (\n",
    "                    ux * math.sin(theta/2),\n",
    "                    uy * math.sin(theta/2),\n",
    "                    uz * math.sin(theta/2),\n",
    "                    math.cos(theta/2)\n",
    "                )\n",
    "            \n",
    "            qi, qj, qk, qr = generate_quaternion(x, y, z, t)\n",
    "            \n",
    "            return np.array([\n",
    "                [1 - 2*(qj**2 + qk**2), 2*(qi*qj - qk*qr), 2*(qi*qk + qj*qr), 0],\n",
    "                [2*(qi*qj + qk*qr), 1 - 2*(qi**2 + qk**2), 2*(qj*qk - qi*qr), 0],\n",
    "                [2*(qi*qk - qj*qr), 2*(qj*qk + qi*qr), 1 - 2*(qi**2 + qj**2), 0],\n",
    "                [0, 0, 0, 1]\n",
    "            ])\n",
    "\n",
    "quaternion_Z_rotation = quaternion_rotation_matrix(0, 0, 1, radians)\n",
    "quaternion_Z_rotation @ point"
   ]
  },
  {
   "cell_type": "markdown",
   "metadata": {},
   "source": [
    "b) Continue a rotação do ponto acima, porém agora além da rotação em Z, faça também uma rotação de 45° em X."
   ]
  },
  {
   "cell_type": "code",
   "execution_count": 18,
   "metadata": {},
   "outputs": [
    {
     "data": {
      "text/plain": [
       "array([[-0.70710678],\n",
       "       [ 0.5       ],\n",
       "       [ 0.5       ],\n",
       "       [ 1.        ]])"
      ]
     },
     "execution_count": 18,
     "metadata": {},
     "output_type": "execute_result"
    }
   ],
   "source": [
    "quaternion_X_rotation = quaternion_rotation_matrix(1, 0, 0, radians)\n",
    "quaternion_X_rotation @ quaternion_Z_rotation @ point"
   ]
  },
  {
   "cell_type": "markdown",
   "metadata": {},
   "source": [
    "c) Continue mais uma vez a rotação do ponto, agora com mais uma rotação em Y de 45°."
   ]
  },
  {
   "cell_type": "code",
   "execution_count": 19,
   "metadata": {},
   "outputs": [
    {
     "data": {
      "text/plain": [
       "array([[-0.14644661],\n",
       "       [ 0.5       ],\n",
       "       [ 0.85355339],\n",
       "       [ 1.        ]])"
      ]
     },
     "execution_count": 19,
     "metadata": {},
     "output_type": "execute_result"
    }
   ],
   "source": [
    "quaternion_Y_rotation = quaternion_rotation_matrix(0, 1, 0, radians)\n",
    "quaternion_Y_rotation @ quaternion_X_rotation @ quaternion_Z_rotation @ point"
   ]
  }
 ],
 "metadata": {
  "kernelspec": {
   "display_name": "env (3.12.3)",
   "language": "python",
   "name": "python3"
  },
  "language_info": {
   "codemirror_mode": {
    "name": "ipython",
    "version": 3
   },
   "file_extension": ".py",
   "mimetype": "text/x-python",
   "name": "python",
   "nbconvert_exporter": "python",
   "pygments_lexer": "ipython3",
   "version": "3.12.3"
  }
 },
 "nbformat": 4,
 "nbformat_minor": 4
}
